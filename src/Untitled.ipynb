{
 "cells": [
  {
   "cell_type": "code",
   "execution_count": 19,
   "id": "262ac874-b580-4865-b67f-5b8498fb714e",
   "metadata": {},
   "outputs": [],
   "source": [
    "import pymongo\n",
    "from pprint import pprint"
   ]
  },
  {
   "cell_type": "code",
   "execution_count": 7,
   "id": "72ae854b-2c10-47b6-9919-dc8c3c528619",
   "metadata": {},
   "outputs": [],
   "source": [
    "# database's adress\n",
    "client = pymongo.MongoClient(\"localhost\", 27017)"
   ]
  },
  {
   "cell_type": "code",
   "execution_count": 15,
   "id": "f4032f85-ac45-45ba-9ab9-243d236d8c98",
   "metadata": {},
   "outputs": [],
   "source": [
    "db = client.nashenas_telegram_bot\n",
    "col = db.users"
   ]
  },
  {
   "cell_type": "code",
   "execution_count": 16,
   "id": "dd6fcb80-6364-4357-aab7-4aec7e956866",
   "metadata": {},
   "outputs": [],
   "source": [
    "col = db.users"
   ]
  },
  {
   "cell_type": "code",
   "execution_count": 17,
   "id": "f338b7a0-5810-4ffb-99e2-456c5ed1ab0a",
   "metadata": {},
   "outputs": [
    {
     "data": {
      "text/plain": [
       "Collection(Database(MongoClient(host=['localhost:27017'], document_class=dict, tz_aware=False, connect=True), 'nashenas_telegram_bot'), 'users')"
      ]
     },
     "execution_count": 17,
     "metadata": {},
     "output_type": "execute_result"
    }
   ],
   "source": [
    "col"
   ]
  },
  {
   "cell_type": "code",
   "execution_count": 27,
   "id": "a3e98526-b308-4dac-abe1-c0139cc72887",
   "metadata": {},
   "outputs": [
    {
     "name": "stdout",
     "output_type": "stream",
     "text": [
      "{'_id': ObjectId('622bb0a28a37c0a66e204af1'),\n",
      " 'chat': {'first_name': '\\u206a\\u206c\\u206e\\u206e\\u206e\\u206e '\n",
      "                        '\\u206a\\u206cSaeed.A',\n",
      "          'id': 317255920,\n",
      "          'type': 'private',\n",
      "          'username': 'saeed0047'},\n",
      " 'date': 1647030433,\n",
      " 'entities': [{'length': 6, 'offset': 0, 'type': 'bot_command'}],\n",
      " 'from': {'first_name': '\\u206a\\u206c\\u206e\\u206e\\u206e\\u206e '\n",
      "                        '\\u206a\\u206cSaeed.A',\n",
      "          'id': 317255920,\n",
      "          'is_bot': False,\n",
      "          'language_code': 'en',\n",
      "          'username': 'saeed0047'},\n",
      " 'message_id': 1373,\n",
      " 'text': '/start'}\n",
      "************************************************************\n"
     ]
    }
   ],
   "source": [
    "for data in col.find():\n",
    "    pprint(data)\n",
    "    print('*'*60)"
   ]
  },
  {
   "cell_type": "code",
   "execution_count": null,
   "id": "cb3d1711-104d-4b74-b370-a4ce4f5be39c",
   "metadata": {},
   "outputs": [],
   "source": []
  }
 ],
 "metadata": {
  "kernelspec": {
   "display_name": "Python 3 (ipykernel)",
   "language": "python",
   "name": "python3"
  },
  "language_info": {
   "codemirror_mode": {
    "name": "ipython",
    "version": 3
   },
   "file_extension": ".py",
   "mimetype": "text/x-python",
   "name": "python",
   "nbconvert_exporter": "python",
   "pygments_lexer": "ipython3",
   "version": "3.9.7"
  }
 },
 "nbformat": 4,
 "nbformat_minor": 5
}
